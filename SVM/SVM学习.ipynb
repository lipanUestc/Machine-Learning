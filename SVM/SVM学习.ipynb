{
 "cells": [
  {
   "cell_type": "markdown",
   "metadata": {},
   "source": [
    "https://blog.csdn.net/luoshixian099/article/details/51073885  \n",
    "https://www.jianshu.com/c/bda3e98b8294?utm_source=desktop&utm_medium=notes-included-collection\n",
    "  \n",
    "# 1、最大间隔线性分类器\n",
    "数据点用列向量X表示，X={$x_1$,$x_2$,...,$x_n$},X有n个属性。  \n",
    "在X的n维空间中再加一维y，则是一个n+1维空间。 $W^TX+b=0$则表示在这n+1维空间中的一个n维超平面。  \n",
    "容易看出$W^T$是该平面的法向量。  \n",
    "假设所有数据是线性可分的，即所有数据一定落在超平面两侧。且$f(x)=W^TX+b$为正时，其标签y=1；为负时，其y=-1。所以$y*f(x)$一定为正。  \n",
    "  \n",
    "对于任意点X，其到超平面的**几何距离**$=\\frac{W^TX+b}{\\left \\| W \\right \\|}$，几何距离就是X到超平面的最小距离。  \n",
    "**函数距离**$=W^TX+b$,等于是几何距离乘以法向量的模$\\left \\| W \\right \\|$。因为对任意平面方程$W^TX+b=0$，当W和b同时放大缩小k倍时所代表的的平面不变，固定点X到固定平面的几何距离也不会变，但函数距离却会随着$\\left \\| W \\right \\|$改变。这就导致函数距离只能相对的比较两个点到平面距离的大小，比如两个点X1、X2，其中X1距离平面s的几何距离即实际距离要近一些，X2要远一些，这时不管平面方程$W^TX+b=0$写成什么形式，W、b不管是多大多小，算出的几何距离都还是原来一样，函数距离=几何距离 * W的模，W不管变成多少，X1、X2到平面的函数距离也缩放相同的比例，那么原来几何距离大的X1这时算出的函数距离照样大，所以说函数距离的值本身没有意义，但是两两比较时其相对大小确实能反映几何距离的大小。    \n",
    "\n",
    "我们现在的目标是找到一个最鲁棒的划分平面，能够最好的将样本二分类。这里我们明确我们所指的最鲁棒为：数据集D中每个样本到平面的几何距离中的最大距离，这里有两重含义：一是对于一个W、b而言，也即对于一个确定超平面而言，我们要找的是其中几何距离最小的点，每个超平面找到一个最小的；二是对于不同的超平面，我们要找到所有最小几何距离中的最大值，即可以保证这个下限。这里就产生了两个问题：一是在一个超平面内如何保证找到的是那么多样本点中距离超平面最小的几何距离；二是如何比较不同超平面最小距离的大小。对于问题一，因为是对于一个超平面而言，我们可以用函数距离较容易的解决，所以这里先考虑第二个问题，如何比较不同超平面最小几何距离。这里我们可以固定最小函数距离为1，因为对于一个固定超平面而言，成比例放大缩小W、b，虽然W的值一直在改变，但超平面指的都是同一个，也即当求训练集D中任一点到超平面的函数距离时，任一点到超平面的几何距离会不同，但我们一定能找到一个法向量W的模，使得乘出来的函数距离为1，而且这时虽然W不同，但这两个点却是在与同一超平面比较，而且只要是确定点与确定超平面，其几何距离就不会变。之前的论述证明了不同超平面之间大小的比较，训练集D中不同点针对一个超平面的距离的比较，则体现在约束条件里$y_i(W^TX_i+b)\\geq1$,因为我们假定了$\\frac{W^TX+b}{\\left \\| W \\right \\|}$算出的就是最小几何距离为$\\frac{1}{\\left \\| W \\right \\|}$，我们知道函数距离可以比较相对大小，所以别的样本点算出的函数距离$\\frac{y_i(W^TX_i+b)}{\\left \\| W \\right \\|} \\geq \\frac{1}{\\left \\| W \\right \\|}$,也即$y_i(W^TX_i+b)\\geq1$.\n",
    "    \n",
    "可将原始问题表述为$max \\quad \\frac{1}{\\left \\| W \\right \\|} \\quad s.t. \\quad y_i(W^TX_i+b)\\geq 1\\quad$ ,   \n",
    "取倒数然后平方：$min_{W,b} \\quad \\frac{1}{2}\\left \\| W \\right \\|^2 \\quad s.t. \\quad y_i(W^TX_i+b)\\geq 1\\quad (1)$ \n",
    "\n",
    "# 2、拉格朗日乘子法、KKT条件\n",
    "三种优化问题：  \n",
    "1、无约束直接求导等于0 $\\quad$   \n",
    "2、等式约束,等高线法线和约束超平面法线共线 $\\quad$   \n",
    "3、不等式约束，依旧用拉格朗日函数，但是求出的最优解只是候选值，要用KKT条件去验证。  \n",
    "  \n",
    "观察原始问题最终公式是一个不等式约束的优化问题，先写出其拉格朗日函数：  \n",
    "$$L(W,b,\\alpha )=\\frac{1}{2}\\left \\| W \\right \\|^2 + \\sum_{i=1}^{m}\\alpha (1-y(W^TX+b))\\quad(2)$$\n",
    "$min_{W,b}max_{\\alpha}\\quad L(W,b,\\alpha) \\quad s.t.\\quad \\alpha \\geq 0$就等价于(1)。这里还有一个隐藏约束，就是最后求得候选值还要满足KKT条件。  \n",
    "   \n",
    "这里为证明拉格朗日函数形式(2)与(1)等价，可以验证其求得的最优解是否一样.(1)的最优解是g(x)<=0范围内的f(x)最优解最小值。(2)的最优解可以分为两种情况讨论，(2)式本身解就有两种，因为由约束条件$\\alpha\\geq0$,当g(x)<=0在x可行域内时，L函数的后半部分一定小于等于0，所以此时其L的最大值就是f(x)在g(x)<=0内的最大值。当g(x)>0不在可行域，又因为α>=0且α为变量,所以max L一定是无穷大。所以再对max L取最小值就是f(x)在可行域g(x)<=0内最大值的最小值。\n",
    "\n",
    "# 3、对偶问题、强弱对偶性\n",
    "为方便求解，将原始问题（以W，b为变量的优化问题）$min_{W,b}max_{\\alpha}\\quad L(W,b,\\alpha) \\quad$转换为以$\\alpha$为变量的优化问题$$max_{\\alpha}min_{W,b}\\quad L(W,b,\\alpha) \\quad=max_{\\alpha}min_{W,b}\\quad \\frac{1}{2}\\left \\| W \\right \\|^2 + \\sum_{i=1}^{m}\\alpha (1-y(W^TX+b))\\quad$$。因为对偶问题最外层是$\\alpha$的函数且内层也是求极值问题，考虑先求偏导为0找到驻点，同时通过偏导为0条件，消掉W、b将对偶问题变成只含变量$\\alpha$的新问题。\n",
    "$$\\frac{\\partial L}{\\partial W}=\\left \\| W \\right \\|-\\sum_{i=1}^m\\alpha_iy_ix_i=0 \\quad->\\quad\\left \\| W \\right \\|=\\sum_{i=1}^m\\alpha_iy_ix_i$$\n",
    "$$\\frac{\\partial L}{\\partial b}=\\sum_{i=1}^m\\alpha_iy_i=0$$\n",
    "将上两式带入对偶函数得：\n",
    "$$max_{\\alpha} \\quad \\sum_{i=1}^m\\alpha_i-\\frac{1}{2}\\sum_{i=1}^m\\sum_{j=1}^m\\alpha_i\\alpha_jy_iy_jx_ix_j \\quad s.t. \\quad \\sum_{i=1}^m \\alpha_i y_i =0 且 \\alpha_i \\geq0 \\quad(3)$$\n",
    "注意这里的$\\alpha$和y是数，x则是样本向量，向量每个值是一个属性。  \n",
    "另外要注意W没有下标i，因此可作为常数提出求和符号，另外向量W和向量X的位置不能变。\n",
    "# 4、SMO或二次规划\n",
    "https://blog.csdn.net/luoshixian099/article/details/51227754  \n",
    "由SMO方法求解(3)公式，得到一组最优的$\\alpha$(α1，α2...αm)，带回W对L偏导为0的公式即可解得W,这样做的原因是求得的是该式的极值点:\n",
    "$$\\quad\\left \\| W \\right \\|=\\sum_{i=1}^m\\alpha_iy_ix_i$$\n",
    "接着求b，首先明确由KKT条件约束，可行解必满足$\\alpha_i=0 或者 y_i(W^T x_i+b)=1$,且不可能所有α都为0，否则上式算出W等于0表示超平面不存在，故一定存在分量αi不等于0，而该分量对应的样本xi就是支持向量，其函数距离必满足$y_i(W^T x_i+b)=1$,将x、y、W带入即可解得b。最终解得模型为：\n",
    "$$f(x)=W^T X+b=\\sum_{i=1}^m\\alpha_i y_i X_i^T X+b$$"
   ]
  },
  {
   "cell_type": "markdown",
   "metadata": {},
   "source": []
  }
 ],
 "metadata": {
  "kernelspec": {
   "display_name": "Python 3",
   "language": "python",
   "name": "python3"
  },
  "language_info": {
   "codemirror_mode": {
    "name": "ipython",
    "version": 3
   },
   "file_extension": ".py",
   "mimetype": "text/x-python",
   "name": "python",
   "nbconvert_exporter": "python",
   "pygments_lexer": "ipython3",
   "version": "3.6.5"
  }
 },
 "nbformat": 4,
 "nbformat_minor": 2
}
